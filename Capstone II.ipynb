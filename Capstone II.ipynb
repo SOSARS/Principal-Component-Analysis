{
 "cells": [
  {
   "cell_type": "markdown",
   "id": "2c689ad9",
   "metadata": {},
   "source": [
    "# Machine Learning: Capestone II"
   ]
  },
  {
   "cell_type": "code",
   "execution_count": 3,
   "id": "d3d273d2",
   "metadata": {},
   "outputs": [],
   "source": [
    "import pandas\n",
    "import numpy\n",
    "import seaborn as sns\n",
    "from sklearn.preprocessing import StandardScaler\n",
    "from sklearn.decomposition import PCA\n",
    "import matplotlib.pyplot as plt\n",
    "import missingno\n",
    "%matplotlib inline"
   ]
  },
  {
   "cell_type": "markdown",
   "id": "62c7d937",
   "metadata": {},
   "source": [
    "## Reading the data"
   ]
  },
  {
   "cell_type": "code",
   "execution_count": 2,
   "id": "a6828f6b",
   "metadata": {},
   "outputs": [
    {
     "data": {
      "text/html": [
       "<div>\n",
       "<style scoped>\n",
       "    .dataframe tbody tr th:only-of-type {\n",
       "        vertical-align: middle;\n",
       "    }\n",
       "\n",
       "    .dataframe tbody tr th {\n",
       "        vertical-align: top;\n",
       "    }\n",
       "\n",
       "    .dataframe thead th {\n",
       "        text-align: right;\n",
       "    }\n",
       "</style>\n",
       "<table border=\"1\" class=\"dataframe\">\n",
       "  <thead>\n",
       "    <tr style=\"text-align: right;\">\n",
       "      <th></th>\n",
       "      <th>City</th>\n",
       "      <th>Murder</th>\n",
       "      <th>Assault</th>\n",
       "      <th>UrbanPop</th>\n",
       "      <th>Rape</th>\n",
       "    </tr>\n",
       "  </thead>\n",
       "  <tbody>\n",
       "    <tr>\n",
       "      <th>0</th>\n",
       "      <td>Alabama</td>\n",
       "      <td>13.2</td>\n",
       "      <td>236</td>\n",
       "      <td>58</td>\n",
       "      <td>21.2</td>\n",
       "    </tr>\n",
       "    <tr>\n",
       "      <th>1</th>\n",
       "      <td>Alaska</td>\n",
       "      <td>10.0</td>\n",
       "      <td>263</td>\n",
       "      <td>48</td>\n",
       "      <td>44.5</td>\n",
       "    </tr>\n",
       "    <tr>\n",
       "      <th>2</th>\n",
       "      <td>Arizona</td>\n",
       "      <td>8.1</td>\n",
       "      <td>294</td>\n",
       "      <td>80</td>\n",
       "      <td>31.0</td>\n",
       "    </tr>\n",
       "    <tr>\n",
       "      <th>3</th>\n",
       "      <td>Arkansas</td>\n",
       "      <td>8.8</td>\n",
       "      <td>190</td>\n",
       "      <td>50</td>\n",
       "      <td>19.5</td>\n",
       "    </tr>\n",
       "    <tr>\n",
       "      <th>4</th>\n",
       "      <td>California</td>\n",
       "      <td>9.0</td>\n",
       "      <td>276</td>\n",
       "      <td>91</td>\n",
       "      <td>40.6</td>\n",
       "    </tr>\n",
       "  </tbody>\n",
       "</table>\n",
       "</div>"
      ],
      "text/plain": [
       "         City  Murder  Assault  UrbanPop  Rape\n",
       "0     Alabama    13.2      236        58  21.2\n",
       "1      Alaska    10.0      263        48  44.5\n",
       "2     Arizona     8.1      294        80  31.0\n",
       "3    Arkansas     8.8      190        50  19.5\n",
       "4  California     9.0      276        91  40.6"
      ]
     },
     "execution_count": 2,
     "metadata": {},
     "output_type": "execute_result"
    }
   ],
   "source": [
    "# Reading the data\n",
    "arrests = pandas.read_csv(\"UsArrests.csv\")\n",
    "arrests.head()"
   ]
  },
  {
   "cell_type": "markdown",
   "id": "7df567f2",
   "metadata": {},
   "source": [
    "## Data Exploration"
   ]
  },
  {
   "cell_type": "code",
   "execution_count": 4,
   "id": "040f4505",
   "metadata": {},
   "outputs": [
    {
     "data": {
      "text/plain": [
       "City        0\n",
       "Murder      0\n",
       "Assault     0\n",
       "UrbanPop    0\n",
       "Rape        0\n",
       "dtype: int64"
      ]
     },
     "execution_count": 4,
     "metadata": {},
     "output_type": "execute_result"
    }
   ],
   "source": [
    "# Searching for null values in the dataframe\n",
    "arrests.isna().sum()"
   ]
  },
  {
   "cell_type": "code",
   "execution_count": 10,
   "id": "220b2e69",
   "metadata": {},
   "outputs": [
    {
     "data": {
      "text/plain": [
       "Index(['City', 'Murder', 'Assault', 'UrbanPop', 'Rape'], dtype='object')"
      ]
     },
     "execution_count": 10,
     "metadata": {},
     "output_type": "execute_result"
    }
   ],
   "source": [
    "# Assigning the column names to \"features\" variable\n",
    "features = arrests.columns\n",
    "features"
   ]
  },
  {
   "cell_type": "markdown",
   "id": "84e21561",
   "metadata": {},
   "source": [
    "#### Identifying null and/or empty values"
   ]
  },
  {
   "cell_type": "code",
   "execution_count": 25,
   "id": "56273330",
   "metadata": {},
   "outputs": [
    {
     "data": {
      "text/html": [
       "<div>\n",
       "<style scoped>\n",
       "    .dataframe tbody tr th:only-of-type {\n",
       "        vertical-align: middle;\n",
       "    }\n",
       "\n",
       "    .dataframe tbody tr th {\n",
       "        vertical-align: top;\n",
       "    }\n",
       "\n",
       "    .dataframe thead th {\n",
       "        text-align: right;\n",
       "    }\n",
       "</style>\n",
       "<table border=\"1\" class=\"dataframe\">\n",
       "  <thead>\n",
       "    <tr style=\"text-align: right;\">\n",
       "      <th></th>\n",
       "      <th>City</th>\n",
       "      <th>Murder</th>\n",
       "      <th>Assault</th>\n",
       "      <th>UrbanPop</th>\n",
       "      <th>Rape</th>\n",
       "    </tr>\n",
       "  </thead>\n",
       "  <tbody>\n",
       "  </tbody>\n",
       "</table>\n",
       "</div>"
      ],
      "text/plain": [
       "Empty DataFrame\n",
       "Columns: [City, Murder, Assault, UrbanPop, Rape]\n",
       "Index: []"
      ]
     },
     "execution_count": 25,
     "metadata": {},
     "output_type": "execute_result"
    }
   ],
   "source": [
    "arrests.loc[arrests[\"City\"] == \" \"]"
   ]
  },
  {
   "cell_type": "code",
   "execution_count": 18,
   "id": "44dea6a4",
   "metadata": {},
   "outputs": [
    {
     "data": {
      "text/html": [
       "<div>\n",
       "<style scoped>\n",
       "    .dataframe tbody tr th:only-of-type {\n",
       "        vertical-align: middle;\n",
       "    }\n",
       "\n",
       "    .dataframe tbody tr th {\n",
       "        vertical-align: top;\n",
       "    }\n",
       "\n",
       "    .dataframe thead th {\n",
       "        text-align: right;\n",
       "    }\n",
       "</style>\n",
       "<table border=\"1\" class=\"dataframe\">\n",
       "  <thead>\n",
       "    <tr style=\"text-align: right;\">\n",
       "      <th></th>\n",
       "      <th>City</th>\n",
       "      <th>Murder</th>\n",
       "      <th>Assault</th>\n",
       "      <th>UrbanPop</th>\n",
       "      <th>Rape</th>\n",
       "    </tr>\n",
       "  </thead>\n",
       "  <tbody>\n",
       "  </tbody>\n",
       "</table>\n",
       "</div>"
      ],
      "text/plain": [
       "Empty DataFrame\n",
       "Columns: [City, Murder, Assault, UrbanPop, Rape]\n",
       "Index: []"
      ]
     },
     "execution_count": 18,
     "metadata": {},
     "output_type": "execute_result"
    }
   ],
   "source": [
    "arrests.loc[arrests[\"Murder\"] == \" \"]"
   ]
  },
  {
   "cell_type": "code",
   "execution_count": 19,
   "id": "2c6ecce2",
   "metadata": {},
   "outputs": [
    {
     "data": {
      "text/html": [
       "<div>\n",
       "<style scoped>\n",
       "    .dataframe tbody tr th:only-of-type {\n",
       "        vertical-align: middle;\n",
       "    }\n",
       "\n",
       "    .dataframe tbody tr th {\n",
       "        vertical-align: top;\n",
       "    }\n",
       "\n",
       "    .dataframe thead th {\n",
       "        text-align: right;\n",
       "    }\n",
       "</style>\n",
       "<table border=\"1\" class=\"dataframe\">\n",
       "  <thead>\n",
       "    <tr style=\"text-align: right;\">\n",
       "      <th></th>\n",
       "      <th>City</th>\n",
       "      <th>Murder</th>\n",
       "      <th>Assault</th>\n",
       "      <th>UrbanPop</th>\n",
       "      <th>Rape</th>\n",
       "    </tr>\n",
       "  </thead>\n",
       "  <tbody>\n",
       "  </tbody>\n",
       "</table>\n",
       "</div>"
      ],
      "text/plain": [
       "Empty DataFrame\n",
       "Columns: [City, Murder, Assault, UrbanPop, Rape]\n",
       "Index: []"
      ]
     },
     "execution_count": 19,
     "metadata": {},
     "output_type": "execute_result"
    }
   ],
   "source": [
    "arrests.loc[arrests[\"Assault\"] == \" \"]"
   ]
  },
  {
   "cell_type": "code",
   "execution_count": 20,
   "id": "6bf4356d",
   "metadata": {},
   "outputs": [
    {
     "data": {
      "text/html": [
       "<div>\n",
       "<style scoped>\n",
       "    .dataframe tbody tr th:only-of-type {\n",
       "        vertical-align: middle;\n",
       "    }\n",
       "\n",
       "    .dataframe tbody tr th {\n",
       "        vertical-align: top;\n",
       "    }\n",
       "\n",
       "    .dataframe thead th {\n",
       "        text-align: right;\n",
       "    }\n",
       "</style>\n",
       "<table border=\"1\" class=\"dataframe\">\n",
       "  <thead>\n",
       "    <tr style=\"text-align: right;\">\n",
       "      <th></th>\n",
       "      <th>City</th>\n",
       "      <th>Murder</th>\n",
       "      <th>Assault</th>\n",
       "      <th>UrbanPop</th>\n",
       "      <th>Rape</th>\n",
       "    </tr>\n",
       "  </thead>\n",
       "  <tbody>\n",
       "  </tbody>\n",
       "</table>\n",
       "</div>"
      ],
      "text/plain": [
       "Empty DataFrame\n",
       "Columns: [City, Murder, Assault, UrbanPop, Rape]\n",
       "Index: []"
      ]
     },
     "execution_count": 20,
     "metadata": {},
     "output_type": "execute_result"
    }
   ],
   "source": [
    "arrests.loc[arrests[\"UrbanPop\"] == \" \"]"
   ]
  },
  {
   "cell_type": "code",
   "execution_count": 21,
   "id": "817368c2",
   "metadata": {},
   "outputs": [
    {
     "data": {
      "text/html": [
       "<div>\n",
       "<style scoped>\n",
       "    .dataframe tbody tr th:only-of-type {\n",
       "        vertical-align: middle;\n",
       "    }\n",
       "\n",
       "    .dataframe tbody tr th {\n",
       "        vertical-align: top;\n",
       "    }\n",
       "\n",
       "    .dataframe thead th {\n",
       "        text-align: right;\n",
       "    }\n",
       "</style>\n",
       "<table border=\"1\" class=\"dataframe\">\n",
       "  <thead>\n",
       "    <tr style=\"text-align: right;\">\n",
       "      <th></th>\n",
       "      <th>City</th>\n",
       "      <th>Murder</th>\n",
       "      <th>Assault</th>\n",
       "      <th>UrbanPop</th>\n",
       "      <th>Rape</th>\n",
       "    </tr>\n",
       "  </thead>\n",
       "  <tbody>\n",
       "  </tbody>\n",
       "</table>\n",
       "</div>"
      ],
      "text/plain": [
       "Empty DataFrame\n",
       "Columns: [City, Murder, Assault, UrbanPop, Rape]\n",
       "Index: []"
      ]
     },
     "execution_count": 21,
     "metadata": {},
     "output_type": "execute_result"
    }
   ],
   "source": [
    "arrests.loc[arrests[\"Rape\"] == \" \"]"
   ]
  },
  {
   "cell_type": "code",
   "execution_count": 32,
   "id": "8a6beb86",
   "metadata": {},
   "outputs": [
    {
     "data": {
      "text/plain": [
       "<AxesSubplot:>"
      ]
     },
     "execution_count": 32,
     "metadata": {},
     "output_type": "execute_result"
    },
    {
     "data": {
      "image/png": "[encoded data removed]",
      "text/plain": [
       "<Figure size 1800x720 with 3 Axes>"
      ]
     },
     "metadata": {
      "needs_background": "light"
     },
     "output_type": "display_data"
    }
   ],
   "source": [
    "missingno.bar(arrests)"
   ]
  },
  {
   "cell_type": "markdown",
   "id": "fb2aa995",
   "metadata": {},
   "source": [
    "As revealed above, no null or empty values are present in the dataset. Therefore, excessive cleaning or imputation will be required for the dataset."
   ]
  },
  {
   "cell_type": "markdown",
   "id": "d6b890a2",
   "metadata": {},
   "source": [
    "### US Arrests Statistics"
   ]
  },
  {
   "cell_type": "code",
   "execution_count": 27,
   "id": "5a27ede9",
   "metadata": {},
   "outputs": [
    {
     "data": {
      "text/html": [
       "<div>\n",
       "<style scoped>\n",
       "    .dataframe tbody tr th:only-of-type {\n",
       "        vertical-align: middle;\n",
       "    }\n",
       "\n",
       "    .dataframe tbody tr th {\n",
       "        vertical-align: top;\n",
       "    }\n",
       "\n",
       "    .dataframe thead th {\n",
       "        text-align: right;\n",
       "    }\n",
       "</style>\n",
       "<table border=\"1\" class=\"dataframe\">\n",
       "  <thead>\n",
       "    <tr style=\"text-align: right;\">\n",
       "      <th></th>\n",
       "      <th>Murder</th>\n",
       "      <th>Assault</th>\n",
       "      <th>UrbanPop</th>\n",
       "      <th>Rape</th>\n",
       "    </tr>\n",
       "  </thead>\n",
       "  <tbody>\n",
       "    <tr>\n",
       "      <th>count</th>\n",
       "      <td>50.00000</td>\n",
       "      <td>50.000000</td>\n",
       "      <td>50.000000</td>\n",
       "      <td>50.000000</td>\n",
       "    </tr>\n",
       "    <tr>\n",
       "      <th>mean</th>\n",
       "      <td>7.78800</td>\n",
       "      <td>170.760000</td>\n",
       "      <td>65.540000</td>\n",
       "      <td>21.232000</td>\n",
       "    </tr>\n",
       "    <tr>\n",
       "      <th>std</th>\n",
       "      <td>4.35551</td>\n",
       "      <td>83.337661</td>\n",
       "      <td>14.474763</td>\n",
       "      <td>9.366385</td>\n",
       "    </tr>\n",
       "    <tr>\n",
       "      <th>min</th>\n",
       "      <td>0.80000</td>\n",
       "      <td>45.000000</td>\n",
       "      <td>32.000000</td>\n",
       "      <td>7.300000</td>\n",
       "    </tr>\n",
       "    <tr>\n",
       "      <th>25%</th>\n",
       "      <td>4.07500</td>\n",
       "      <td>109.000000</td>\n",
       "      <td>54.500000</td>\n",
       "      <td>15.075000</td>\n",
       "    </tr>\n",
       "    <tr>\n",
       "      <th>50%</th>\n",
       "      <td>7.25000</td>\n",
       "      <td>159.000000</td>\n",
       "      <td>66.000000</td>\n",
       "      <td>20.100000</td>\n",
       "    </tr>\n",
       "    <tr>\n",
       "      <th>75%</th>\n",
       "      <td>11.25000</td>\n",
       "      <td>249.000000</td>\n",
       "      <td>77.750000</td>\n",
       "      <td>26.175000</td>\n",
       "    </tr>\n",
       "    <tr>\n",
       "      <th>max</th>\n",
       "      <td>17.40000</td>\n",
       "      <td>337.000000</td>\n",
       "      <td>91.000000</td>\n",
       "      <td>46.000000</td>\n",
       "    </tr>\n",
       "  </tbody>\n",
       "</table>\n",
       "</div>"
      ],
      "text/plain": [
       "         Murder     Assault   UrbanPop       Rape\n",
       "count  50.00000   50.000000  50.000000  50.000000\n",
       "mean    7.78800  170.760000  65.540000  21.232000\n",
       "std     4.35551   83.337661  14.474763   9.366385\n",
       "min     0.80000   45.000000  32.000000   7.300000\n",
       "25%     4.07500  109.000000  54.500000  15.075000\n",
       "50%     7.25000  159.000000  66.000000  20.100000\n",
       "75%    11.25000  249.000000  77.750000  26.175000\n",
       "max    17.40000  337.000000  91.000000  46.000000"
      ]
     },
     "execution_count": 27,
     "metadata": {},
     "output_type": "execute_result"
    }
   ],
   "source": [
    "arrests.describe()"
   ]
  },
  {
   "cell_type": "code",
   "execution_count": 30,
   "id": "2cc1f221",
   "metadata": {},
   "outputs": [
    {
     "name": "stdout",
     "output_type": "stream",
     "text": [
      "<class 'pandas.core.frame.DataFrame'>\n",
      "RangeIndex: 50 entries, 0 to 49\n",
      "Data columns (total 5 columns):\n",
      " #   Column    Non-Null Count  Dtype  \n",
      "---  ------    --------------  -----  \n",
      " 0   City      50 non-null     object \n",
      " 1   Murder    50 non-null     float64\n",
      " 2   Assault   50 non-null     int64  \n",
      " 3   UrbanPop  50 non-null     int64  \n",
      " 4   Rape      50 non-null     float64\n",
      "dtypes: float64(2), int64(2), object(1)\n",
      "memory usage: 2.1+ KB\n"
     ]
    }
   ],
   "source": [
    "arrests.info()"
   ]
  },
  {
   "cell_type": "code",
   "execution_count": 87,
   "id": "a78944e2",
   "metadata": {},
   "outputs": [
    {
     "data": {
      "text/plain": [
       "Murder\n",
       "0.8           North Dakota\n",
       "2.1     MaineNew Hampshire\n",
       "2.2            IowaVermont\n",
       "2.6         IdahoWisconsin\n",
       "2.7              Minnesota\n",
       "3.2                   Utah\n",
       "3.3            Connecticut\n",
       "3.4           Rhode Island\n",
       "3.8           South Dakota\n",
       "4.0             Washington\n",
       "4.3               Nebraska\n",
       "4.4          Massachusetts\n",
       "4.9                 Oregon\n",
       "5.3                 Hawaii\n",
       "5.7          West Virginia\n",
       "5.9               Delaware\n",
       "6.0          KansasMontana\n",
       "6.3           Pennsylvania\n",
       "6.6               Oklahoma\n",
       "6.8                Wyoming\n",
       "7.2                Indiana\n",
       "7.3                   Ohio\n",
       "7.4             New Jersey\n",
       "7.9               Colorado\n",
       "8.1                Arizona\n",
       "8.5               Virginia\n",
       "8.8               Arkansas\n",
       "9.0     CaliforniaMissouri\n",
       "9.7               Kentucky\n",
       "10.0                Alaska\n",
       "10.4              Illinois\n",
       "11.1              New York\n",
       "11.3              Maryland\n",
       "11.4            New Mexico\n",
       "12.1              Michigan\n",
       "12.2                Nevada\n",
       "12.7                 Texas\n",
       "13.0        North Carolina\n",
       "13.2      AlabamaTennessee\n",
       "14.4        South Carolina\n",
       "15.4      FloridaLouisiana\n",
       "16.1           Mississippi\n",
       "17.4               Georgia\n",
       "Name: City, dtype: object"
      ]
     },
     "execution_count": 87,
     "metadata": {},
     "output_type": "execute_result"
    }
   ],
   "source": [
    "# Grouping the number of murder cases per 100 000 residents based on the city \n",
    "city_murders = arrests.groupby(\"Murder\")[\"City\"].sum()\n",
    "city_murders.sort_values()\n",
    "city_murders"
   ]
  },
  {
   "cell_type": "code",
   "execution_count": 91,
   "id": "410dcda4",
   "metadata": {},
   "outputs": [
    {
     "data": {
      "text/plain": [
       "City\n",
       "California        91\n",
       "New Jersey        89\n",
       "Rhode Island      87\n",
       "New York          86\n",
       "Massachusetts     85\n",
       "Hawaii            83\n",
       "Illinois          83\n",
       "Nevada            81\n",
       "Texas             80\n",
       "Arizona           80\n",
       "Florida           80\n",
       "Utah              80\n",
       "Colorado          78\n",
       "Connecticut       77\n",
       "Ohio              75\n",
       "Michigan          74\n",
       "Washington        73\n",
       "Delaware          72\n",
       "Pennsylvania      72\n",
       "New Mexico        70\n",
       "Missouri          70\n",
       "Oklahoma          68\n",
       "Maryland          67\n",
       "Oregon            67\n",
       "Louisiana         66\n",
       "Minnesota         66\n",
       "Kansas            66\n",
       "Wisconsin         66\n",
       "Indiana           65\n",
       "Virginia          63\n",
       "Nebraska          62\n",
       "Georgia           60\n",
       "Wyoming           60\n",
       "Tennessee         59\n",
       "Alabama           58\n",
       "Iowa              57\n",
       "New Hampshire     56\n",
       "Idaho             54\n",
       "Montana           53\n",
       "Kentucky          52\n",
       "Maine             51\n",
       "Arkansas          50\n",
       "Alaska            48\n",
       "South Carolina    48\n",
       "North Carolina    45\n",
       "South Dakota      45\n",
       "North Dakota      44\n",
       "Mississippi       44\n",
       "West Virginia     39\n",
       "Vermont           32\n",
       "Name: UrbanPop, dtype: int64"
      ]
     },
     "execution_count": 91,
     "metadata": {},
     "output_type": "execute_result"
    }
   ],
   "source": [
    "# Grouping the percentages\n",
    "arrests.groupby(\"City\")[\"UrbanPop\"].sum().sort_values(ascending = False)"
   ]
  },
  {
   "cell_type": "code",
   "execution_count": 88,
   "id": "b7d6e0f6",
   "metadata": {},
   "outputs": [
    {
     "data": {
      "text/plain": [
       "City\n",
       "North Dakota       7.3\n",
       "Maine              7.8\n",
       "Rhode Island       8.3\n",
       "West Virginia      9.3\n",
       "New Hampshire      9.5\n",
       "Wisconsin         10.8\n",
       "Connecticut       11.1\n",
       "Vermont           11.2\n",
       "Iowa              11.3\n",
       "South Dakota      12.8\n",
       "Idaho             14.2\n",
       "Minnesota         14.9\n",
       "Pennsylvania      14.9\n",
       "Wyoming           15.6\n",
       "Delaware          15.8\n",
       "North Carolina    16.1\n",
       "Kentucky          16.3\n",
       "Massachusetts     16.3\n",
       "Montana           16.4\n",
       "Nebraska          16.5\n",
       "Mississippi       17.1\n",
       "Kansas            18.0\n",
       "New Jersey        18.8\n",
       "Arkansas          19.5\n",
       "Oklahoma          20.0\n",
       "Hawaii            20.2\n",
       "Virginia          20.7\n",
       "Indiana           21.0\n",
       "Alabama           21.2\n",
       "Ohio              21.4\n",
       "Louisiana         22.2\n",
       "South Carolina    22.5\n",
       "Utah              22.9\n",
       "Illinois          24.0\n",
       "Texas             25.5\n",
       "Georgia           25.8\n",
       "New York          26.1\n",
       "Washington        26.2\n",
       "Tennessee         26.9\n",
       "Maryland          27.8\n",
       "Missouri          28.2\n",
       "Oregon            29.3\n",
       "Arizona           31.0\n",
       "Florida           31.9\n",
       "New Mexico        32.1\n",
       "Michigan          35.1\n",
       "Colorado          38.7\n",
       "California        40.6\n",
       "Alaska            44.5\n",
       "Nevada            46.0\n",
       "Name: Rape, dtype: float64"
      ]
     },
     "execution_count": 88,
     "metadata": {},
     "output_type": "execute_result"
    }
   ],
   "source": [
    "arrests.groupby(\"City\")[\"Rape\"].sum().sort_values()"
   ]
  },
  {
   "cell_type": "code",
   "execution_count": 89,
   "id": "a83bfd87",
   "metadata": {},
   "outputs": [
    {
     "data": {
      "text/plain": [
       "City\n",
       "North Dakota       45\n",
       "Hawaii             46\n",
       "Vermont            48\n",
       "Wisconsin          53\n",
       "Iowa               56\n",
       "New Hampshire      57\n",
       "Minnesota          72\n",
       "West Virginia      81\n",
       "Maine              83\n",
       "South Dakota       86\n",
       "Nebraska          102\n",
       "Pennsylvania      106\n",
       "Montana           109\n",
       "Kentucky          109\n",
       "Connecticut       110\n",
       "Indiana           113\n",
       "Kansas            115\n",
       "Idaho             120\n",
       "Ohio              120\n",
       "Utah              120\n",
       "Washington        145\n",
       "Massachusetts     149\n",
       "Oklahoma          151\n",
       "Virginia          156\n",
       "Oregon            159\n",
       "New Jersey        159\n",
       "Wyoming           161\n",
       "Rhode Island      174\n",
       "Missouri          178\n",
       "Tennessee         188\n",
       "Arkansas          190\n",
       "Texas             201\n",
       "Colorado          204\n",
       "Georgia           211\n",
       "Alabama           236\n",
       "Delaware          238\n",
       "Louisiana         249\n",
       "Illinois          249\n",
       "Nevada            252\n",
       "New York          254\n",
       "Michigan          255\n",
       "Mississippi       259\n",
       "Alaska            263\n",
       "California        276\n",
       "South Carolina    279\n",
       "New Mexico        285\n",
       "Arizona           294\n",
       "Maryland          300\n",
       "Florida           335\n",
       "North Carolina    337\n",
       "Name: Assault, dtype: int64"
      ]
     },
     "execution_count": 89,
     "metadata": {},
     "output_type": "execute_result"
    }
   ],
   "source": [
    "arrests.groupby(\"City\")[\"Assault\"].sum().sort_values()"
   ]
  },
  {
   "cell_type": "code",
   "execution_count": 117,
   "id": "7043e919",
   "metadata": {},
   "outputs": [
    {
     "data": {
      "text/plain": [
       "City        Wyoming\n",
       "Murder         17.4\n",
       "Assault         337\n",
       "UrbanPop         91\n",
       "Rape           46.0\n",
       "dtype: object"
      ]
     },
     "execution_count": 117,
     "metadata": {},
     "output_type": "execute_result"
    }
   ],
   "source": [
    "# The highest crime rate city\n",
    "arrests.max()"
   ]
  },
  {
   "cell_type": "code",
   "execution_count": 118,
   "id": "c1a0bc54",
   "metadata": {},
   "outputs": [
    {
     "data": {
      "text/plain": [
       "City        Alabama\n",
       "Murder          0.8\n",
       "Assault          45\n",
       "UrbanPop         32\n",
       "Rape            7.3\n",
       "dtype: object"
      ]
     },
     "execution_count": 118,
     "metadata": {},
     "output_type": "execute_result"
    }
   ],
   "source": [
    "# The lowest crime rate city\n",
    "arrests.min()"
   ]
  },
  {
   "cell_type": "markdown",
   "id": "2dd87c75",
   "metadata": {},
   "source": [
    "Shockingly, as revealed above, Wyoming is the city that appears to be the most dangerous for residents. This is suprising considering 91% of the population is situated in an urban area. This may be because the policing system in Wyoming is very good as a large majority of crimes are reported. Alternatively, the policing system may be subpar allowing for more of these crimes to be committed.\n",
    "\n",
    "Conversely, Alabama may be considered the safest per 100 000 residents of the collected statistics. It is important to note however, that the statistics may be skewed in favour of Alabama being the safest due to the lack of reporting of crimes. As mentioned above in the case of Wyoming, many cases being reported suggests that an increased level of police activity takes place in the city, therefore, making it safer overall. Alabama however, may not have the same level of policing therefore allowing for a lower number in reported crimes. The statistics suggest that Alabama is the safest however. "
   ]
  },
  {
   "cell_type": "markdown",
   "id": "4c9f2d22",
   "metadata": {},
   "source": [
    "### Identifying and plotting the correlations between the variables"
   ]
  },
  {
   "cell_type": "code",
   "execution_count": 34,
   "id": "fbb7c4a6",
   "metadata": {},
   "outputs": [
    {
     "data": {
      "text/html": [
       "<div>\n",
       "<style scoped>\n",
       "    .dataframe tbody tr th:only-of-type {\n",
       "        vertical-align: middle;\n",
       "    }\n",
       "\n",
       "    .dataframe tbody tr th {\n",
       "        vertical-align: top;\n",
       "    }\n",
       "\n",
       "    .dataframe thead th {\n",
       "        text-align: right;\n",
       "    }\n",
       "</style>\n",
       "<table border=\"1\" class=\"dataframe\">\n",
       "  <thead>\n",
       "    <tr style=\"text-align: right;\">\n",
       "      <th></th>\n",
       "      <th>Murder</th>\n",
       "      <th>Assault</th>\n",
       "      <th>UrbanPop</th>\n",
       "      <th>Rape</th>\n",
       "    </tr>\n",
       "  </thead>\n",
       "  <tbody>\n",
       "    <tr>\n",
       "      <th>Murder</th>\n",
       "      <td>1.000000</td>\n",
       "      <td>0.801873</td>\n",
       "      <td>0.069573</td>\n",
       "      <td>0.563579</td>\n",
       "    </tr>\n",
       "    <tr>\n",
       "      <th>Assault</th>\n",
       "      <td>0.801873</td>\n",
       "      <td>1.000000</td>\n",
       "      <td>0.258872</td>\n",
       "      <td>0.665241</td>\n",
       "    </tr>\n",
       "    <tr>\n",
       "      <th>UrbanPop</th>\n",
       "      <td>0.069573</td>\n",
       "      <td>0.258872</td>\n",
       "      <td>1.000000</td>\n",
       "      <td>0.411341</td>\n",
       "    </tr>\n",
       "    <tr>\n",
       "      <th>Rape</th>\n",
       "      <td>0.563579</td>\n",
       "      <td>0.665241</td>\n",
       "      <td>0.411341</td>\n",
       "      <td>1.000000</td>\n",
       "    </tr>\n",
       "  </tbody>\n",
       "</table>\n",
       "</div>"
      ],
      "text/plain": [
       "            Murder   Assault  UrbanPop      Rape\n",
       "Murder    1.000000  0.801873  0.069573  0.563579\n",
       "Assault   0.801873  1.000000  0.258872  0.665241\n",
       "UrbanPop  0.069573  0.258872  1.000000  0.411341\n",
       "Rape      0.563579  0.665241  0.411341  1.000000"
      ]
     },
     "execution_count": 34,
     "metadata": {},
     "output_type": "execute_result"
    }
   ],
   "source": [
    "arrest_correlations = arrests.corr()\n",
    "arrest_correlations"
   ]
  },
  {
   "cell_type": "code",
   "execution_count": 35,
   "id": "b589d332",
   "metadata": {},
   "outputs": [
    {
     "data": {
      "text/plain": [
       "<AxesSubplot:>"
      ]
     },
     "execution_count": 35,
     "metadata": {},
     "output_type": "execute_result"
    },
    {
     "data": {
      "image/png": "[encoded data removed]",
      "text/plain": [
       "<Figure size 432x288 with 2 Axes>"
      ]
     },
     "metadata": {
      "needs_background": "light"
     },
     "output_type": "display_data"
    }
   ],
   "source": [
    "sns.heatmap(arrest_correlations)"
   ]
  },
  {
   "cell_type": "markdown",
   "id": "000b6a7f",
   "metadata": {},
   "source": [
    "## Correlation Analysis"
   ]
  },
  {
   "cell_type": "markdown",
   "id": "97fb226e",
   "metadata": {},
   "source": [
    "Based on the return above, Murder and Assault have the strongest correlation which suggests that assaults often lead to murder. Assault may be targeted or be at random. It is often the case that an incident of assault becomes so severe, the victim succumbs to the injuries or is rather, murdered during the act of the crime. Without additional information, the assumption arrives that most murder cases are assault-related incidents that lead to murder. Whether through use of a firearm, object or by hand, many assault victims do not survive the incidents. The same applies to Rape cases. Rape is deemed a form of assault which complies with the strong correlation that rape cases have to the assault cases. \n",
    "\n",
    "An increase in murder rates results in a decrease in the urban population. This complies with reasonable logic. As the more individuals murdered, the lower the number of the urban population.\n",
    "\n",
    "An estimated 50% of rape cases often lead to murders. This statistic suggests that rape victims will likely be murdered contributing to the number of murder cases.\n",
    "\n",
    "An interesting find however, reveals itself in the correlation between the number of rape cases and the size of the urban population. A pure assumption leads one to believe that many rape-related incidents would lead to a growth in population as a result of forced pregnancies. The dataset tells a different story however. This may be because rape cases are not laregly limited to the female population and may indicate that many men and young children, (individuals that cannot fall pregnant), fall victim to rape. Of which is very unfortunate for all parties.\n",
    "\n",
    "An alternative reason for the lowered correlation between rape-related incidents and the urban population may be that pregnancy preventative measures are very good and accessible to the larger population. Fewer rape victims may fall pregnant, provided the victims are assessed and assisted by a medical professional, of which is a good indication of the level of medical assistance and advancements in the medical sphere in the United States."
   ]
  },
  {
   "cell_type": "code",
   "execution_count": 52,
   "id": "36dc1ff7",
   "metadata": {},
   "outputs": [
    {
     "data": {
      "text/plain": [
       "<seaborn.axisgrid.PairGrid at 0x13a5afb4c10>"
      ]
     },
     "execution_count": 52,
     "metadata": {},
     "output_type": "execute_result"
    },
    {
     "data": {
      "image/png": "[encoded data removed]",
      "text/plain": [
       "<Figure size 720x720 with 20 Axes>"
      ]
     },
     "metadata": {
      "needs_background": "light"
     },
     "output_type": "display_data"
    }
   ],
   "source": [
    "sns.pairplot(arrests)"
   ]
  },
  {
   "cell_type": "code",
   "execution_count": 46,
   "id": "82b540fb",
   "metadata": {},
   "outputs": [
    {
     "data": {
      "text/plain": [
       "<seaborn.axisgrid.PairGrid at 0x13a57cb7c70>"
      ]
     },
     "execution_count": 46,
     "metadata": {},
     "output_type": "execute_result"
    },
    {
     "data": {
      "image/png": "[encoded data removed]",
      "text/plain": [
       "<Figure size 588.75x540 with 12 Axes>"
      ]
     },
     "metadata": {
      "needs_background": "light"
     },
     "output_type": "display_data"
    }
   ],
   "source": [
    "# Visualising the effects that other variables have on murder cases\n",
    "sns.pairplot(arrests, hue = \"Murder\")"
   ]
  },
  {
   "cell_type": "markdown",
   "id": "075da75c",
   "metadata": {},
   "source": [
    "## Clustering"
   ]
  },
  {
   "cell_type": "code",
   "execution_count": 181,
   "id": "f916d06e",
   "metadata": {},
   "outputs": [],
   "source": [
    "# Imports for data clustering\n",
    "from sklearn.metrics import accuracy_score, silhouette_score\n",
    "from sklearn.cluster import KMeans\n",
    "from sklearn.cluster import AgglomerativeClustering\n",
    "from scipy.cluster.hierarchy import dendrogram, linkage\n",
    "\n",
    "# Initialising the principle component analysis and standard scaler objects\n",
    "pca = PCA(n_components = 2)\n",
    "scaler = StandardScaler()"
   ]
  },
  {
   "cell_type": "code",
   "execution_count": 105,
   "id": "58114103",
   "metadata": {},
   "outputs": [
    {
     "data": {
      "text/html": [
       "<div>\n",
       "<style scoped>\n",
       "    .dataframe tbody tr th:only-of-type {\n",
       "        vertical-align: middle;\n",
       "    }\n",
       "\n",
       "    .dataframe tbody tr th {\n",
       "        vertical-align: top;\n",
       "    }\n",
       "\n",
       "    .dataframe thead th {\n",
       "        text-align: right;\n",
       "    }\n",
       "</style>\n",
       "<table border=\"1\" class=\"dataframe\">\n",
       "  <thead>\n",
       "    <tr style=\"text-align: right;\">\n",
       "      <th></th>\n",
       "      <th>City</th>\n",
       "      <th>Murder</th>\n",
       "      <th>Assault</th>\n",
       "      <th>UrbanPop</th>\n",
       "      <th>Rape</th>\n",
       "    </tr>\n",
       "  </thead>\n",
       "  <tbody>\n",
       "    <tr>\n",
       "      <th>0</th>\n",
       "      <td>Alabama</td>\n",
       "      <td>13.2</td>\n",
       "      <td>236</td>\n",
       "      <td>58</td>\n",
       "      <td>21.2</td>\n",
       "    </tr>\n",
       "    <tr>\n",
       "      <th>1</th>\n",
       "      <td>Alaska</td>\n",
       "      <td>10.0</td>\n",
       "      <td>263</td>\n",
       "      <td>48</td>\n",
       "      <td>44.5</td>\n",
       "    </tr>\n",
       "    <tr>\n",
       "      <th>2</th>\n",
       "      <td>Arizona</td>\n",
       "      <td>8.1</td>\n",
       "      <td>294</td>\n",
       "      <td>80</td>\n",
       "      <td>31.0</td>\n",
       "    </tr>\n",
       "    <tr>\n",
       "      <th>3</th>\n",
       "      <td>Arkansas</td>\n",
       "      <td>8.8</td>\n",
       "      <td>190</td>\n",
       "      <td>50</td>\n",
       "      <td>19.5</td>\n",
       "    </tr>\n",
       "    <tr>\n",
       "      <th>4</th>\n",
       "      <td>California</td>\n",
       "      <td>9.0</td>\n",
       "      <td>276</td>\n",
       "      <td>91</td>\n",
       "      <td>40.6</td>\n",
       "    </tr>\n",
       "  </tbody>\n",
       "</table>\n",
       "</div>"
      ],
      "text/plain": [
       "         City  Murder  Assault  UrbanPop  Rape\n",
       "0     Alabama    13.2      236        58  21.2\n",
       "1      Alaska    10.0      263        48  44.5\n",
       "2     Arizona     8.1      294        80  31.0\n",
       "3    Arkansas     8.8      190        50  19.5\n",
       "4  California     9.0      276        91  40.6"
      ]
     },
     "execution_count": 105,
     "metadata": {},
     "output_type": "execute_result"
    }
   ],
   "source": [
    "arrests.head()"
   ]
  },
  {
   "cell_type": "code",
   "execution_count": 147,
   "id": "3a447082",
   "metadata": {},
   "outputs": [],
   "source": [
    "# Assigning x to the murder, assault and rape rates and y to the urban population\n",
    "x = arrests.iloc[:, [1, 2, 4]].values.reshape(-1, 3)\n",
    "y = arrests.iloc[:, 3].values"
   ]
  },
  {
   "cell_type": "markdown",
   "id": "f6c7f6de",
   "metadata": {},
   "source": [
    "### KMeans Clustering"
   ]
  },
  {
   "cell_type": "code",
   "execution_count": 148,
   "id": "9104357f",
   "metadata": {},
   "outputs": [
    {
     "data": {
      "text/plain": [
       "KMeans(n_clusters=3, random_state=0)"
      ]
     },
     "execution_count": 148,
     "metadata": {},
     "output_type": "execute_result"
    }
   ],
   "source": [
    "# Murder rate is the selected feature for the clustering analysis\n",
    "kmeans = KMeans(n_clusters = 3, random_state = 0, init = \"k-means++\")\n",
    "kmeans.fit(x)"
   ]
  },
  {
   "cell_type": "markdown",
   "id": "28f42e0a",
   "metadata": {},
   "source": [
    "#### Predictions"
   ]
  },
  {
   "cell_type": "code",
   "execution_count": 151,
   "id": "d6d36d0a",
   "metadata": {},
   "outputs": [
    {
     "data": {
      "text/plain": [
       "array([[1, 1, 1, 2, 1, 2, 0, 1, 1, 2, 0, 0, 1, 0, 0, 0, 0, 1, 0, 1, 2, 1,\n",
       "        0, 1, 2, 0, 0, 1, 0, 2, 1, 1, 1, 0, 0, 2, 2, 0, 2, 1, 0, 2, 2, 0,\n",
       "        0, 2, 2, 0, 0, 2]])"
      ]
     },
     "execution_count": 151,
     "metadata": {},
     "output_type": "execute_result"
    }
   ],
   "source": [
    "y_kmeans = kmeans.fit_predict(x)\n",
    "y_kmeans.reshape(1, -1)"
   ]
  },
  {
   "cell_type": "code",
   "execution_count": 156,
   "id": "d8778590",
   "metadata": {},
   "outputs": [
    {
     "data": {
      "image/png": "[encoded data removed]",
      "text/plain": [
       "<Figure size 432x288 with 1 Axes>"
      ]
     },
     "metadata": {
      "needs_background": "light"
     },
     "output_type": "display_data"
    }
   ],
   "source": [
    "plt.scatter(x[y_kmeans == 0, 0], x[y_kmeans == 0, 1], s = 100, c = \"green\", label = \"Cluster 1\")\n",
    "plt.scatter(x[y_kmeans == 1, 0], x[y_kmeans == 1, 1], s = 100, c = \"black\", label = \"Cluster 2\")\n",
    "plt.scatter(x[y_kmeans == 2, 0], x[y_kmeans == 2, 2], s = 100, c = \"yellow\", label = \"Cluster 3\")\n",
    "plt.scatter(kmeans.cluster_centers_[:, 0], kmeans.cluster_centers_[:, 1], s = 100, c = \"red\", label = \"Centroids\")\n",
    "plt.legend()\n",
    "plt.show()"
   ]
  },
  {
   "cell_type": "markdown",
   "id": "19e6d614",
   "metadata": {},
   "source": [
    "Having selected 3 clusters, the scatter plot above reveals that 2 clusters are the most optimal number for the clustering technique.\n",
    "\n",
    "Analysing the clusters reveals that most, if not many, assault related crimes lead to murders. A very strong relationship (correlation) exists between the two. "
   ]
  },
  {
   "cell_type": "markdown",
   "id": "c8302d14",
   "metadata": {},
   "source": [
    "### Hierarchical Clustering"
   ]
  },
  {
   "cell_type": "code",
   "execution_count": 157,
   "id": "4640a616",
   "metadata": {},
   "outputs": [
    {
     "data": {
      "text/plain": [
       "array([[ 1.25517927,  0.79078716, -0.00345116],\n",
       "       [ 0.51301858,  1.11805959,  2.50942392],\n",
       "       [ 0.07236067,  1.49381682,  1.05346626],\n",
       "       [ 0.23470832,  0.23321191, -0.18679398],\n",
       "       [ 0.28109336,  1.2756352 ,  2.08881393],\n",
       "       [ 0.02597562,  0.40290872,  1.88390137],\n",
       "       [-1.04088037, -0.73648418, -1.09272319],\n",
       "       [-0.43787481,  0.81502956, -0.58583422],\n",
       "       [ 1.76541475,  1.99078607,  1.1505301 ],\n",
       "       [ 2.22926518,  0.48775713,  0.49265293],\n",
       "       [-0.57702994, -1.51224105, -0.11129987],\n",
       "       [-1.20322802, -0.61527217, -0.75839217],\n",
       "       [ 0.60578867,  0.94836277,  0.29852525],\n",
       "       [-0.13637203, -0.70012057, -0.0250209 ],\n",
       "       [-1.29599811, -1.39102904, -1.07115345],\n",
       "       [-0.41468229, -0.67587817, -0.34856705],\n",
       "       [ 0.44344101, -0.74860538, -0.53190987],\n",
       "       [ 1.76541475,  0.94836277,  0.10439756],\n",
       "       [-1.31919063, -1.06375661, -1.44862395],\n",
       "       [ 0.81452136,  1.56654403,  0.70835037],\n",
       "       [-0.78576263, -0.26375734, -0.53190987],\n",
       "       [ 1.00006153,  1.02108998,  1.49564599],\n",
       "       [-1.1800355 , -1.19708982, -0.68289807],\n",
       "       [ 1.9277624 ,  1.06957478, -0.44563089],\n",
       "       [ 0.28109336,  0.0877575 ,  0.75148985],\n",
       "       [-0.41468229, -0.74860538, -0.521125  ],\n",
       "       [-0.80895515, -0.83345379, -0.51034012],\n",
       "       [ 1.02325405,  0.98472638,  2.671197  ],\n",
       "       [-1.31919063, -1.37890783, -1.26528114],\n",
       "       [-0.08998698, -0.14254532, -0.26228808],\n",
       "       [ 0.83771388,  1.38472601,  1.17209984],\n",
       "       [ 0.76813632,  1.00896878,  0.52500755],\n",
       "       [ 1.20879423,  2.01502847, -0.55347961],\n",
       "       [-1.62069341, -1.52436225, -1.50254831],\n",
       "       [-0.11317951, -0.61527217,  0.01811858],\n",
       "       [-0.27552716, -0.23951493, -0.13286962],\n",
       "       [-0.66980002, -0.14254532,  0.87012344],\n",
       "       [-0.34510472, -0.78496898, -0.68289807],\n",
       "       [-1.01768785,  0.03927269, -1.39469959],\n",
       "       [ 1.53348953,  1.3119988 ,  0.13675217],\n",
       "       [-0.92491776, -1.027393  , -0.90938037],\n",
       "       [ 1.25517927,  0.20896951,  0.61128652],\n",
       "       [ 1.13921666,  0.36654512,  0.46029832],\n",
       "       [-1.06407289, -0.61527217,  0.17989166],\n",
       "       [-1.29599811, -1.48799864, -1.08193832],\n",
       "       [ 0.16513075, -0.17890893, -0.05737552],\n",
       "       [-0.87853272, -0.31224214,  0.53579242],\n",
       "       [-0.48425985, -1.08799901, -1.28685088],\n",
       "       [-1.20322802, -1.42739264, -1.1250778 ],\n",
       "       [-0.22914211, -0.11830292, -0.60740397]])"
      ]
     },
     "execution_count": 157,
     "metadata": {},
     "output_type": "execute_result"
    }
   ],
   "source": [
    "# Scaling the data\n",
    "x = scaler.fit_transform(x)\n",
    "x"
   ]
  },
  {
   "cell_type": "markdown",
   "id": "7c34bfbf",
   "metadata": {},
   "source": [
    "### Dendrograms"
   ]
  },
  {
   "cell_type": "code",
   "execution_count": 159,
   "id": "10c6aa15",
   "metadata": {},
   "outputs": [
    {
     "data": {
      "image/png": "[encoded data removed]",
      "text/plain": [
       "<Figure size 432x288 with 1 Axes>"
      ]
     },
     "metadata": {
      "needs_background": "light"
     },
     "output_type": "display_data"
    },
    {
     "data": {
      "text/plain": [
       "<Figure size 1152x576 with 0 Axes>"
      ]
     },
     "metadata": {},
     "output_type": "display_data"
    },
    {
     "data": {
      "image/png": "[encoded data removed]",
      "text/plain": [
       "<Figure size 432x288 with 1 Axes>"
      ]
     },
     "metadata": {
      "needs_background": "light"
     },
     "output_type": "display_data"
    },
    {
     "data": {
      "text/plain": [
       "<Figure size 1152x576 with 0 Axes>"
      ]
     },
     "metadata": {},
     "output_type": "display_data"
    },
    {
     "data": {
      "image/png": "[encoded data removed]",
      "text/plain": [
       "<Figure size 432x288 with 1 Axes>"
      ]
     },
     "metadata": {
      "needs_background": "light"
     },
     "output_type": "display_data"
    },
    {
     "data": {
      "text/plain": [
       "<Figure size 1152x576 with 0 Axes>"
      ]
     },
     "metadata": {},
     "output_type": "display_data"
    }
   ],
   "source": [
    "links_single = linkage(x, \"single\")\n",
    "\n",
    "dendrogram(links_single)\n",
    "plt.figure(figsize = (16, 8))\n",
    "plt.show()\n",
    "\n",
    "links_average = linkage(x, \"average\")\n",
    "\n",
    "dendrogram(links_average)\n",
    "plt.figure(figsize = (16, 8))\n",
    "plt.show()\n",
    "\n",
    "links_complete = linkage(x, \"complete\")\n",
    "\n",
    "dendrogram(links_complete)\n",
    "plt.figure(figsize = (16, 8))\n",
    "plt.show()"
   ]
  },
  {
   "cell_type": "markdown",
   "id": "4f12657a",
   "metadata": {},
   "source": [
    "The dendrograms above hint towards assigning 2-3 clusters for the clustering techniques. However, having visualised the clusters, it is clear that 2 clusters will suffice."
   ]
  },
  {
   "cell_type": "code",
   "execution_count": 160,
   "id": "94154a3c",
   "metadata": {},
   "outputs": [],
   "source": [
    "# k functioning as the number of clusters\n",
    "k = 2"
   ]
  },
  {
   "cell_type": "code",
   "execution_count": 172,
   "id": "ffc29094",
   "metadata": {},
   "outputs": [
    {
     "data": {
      "text/plain": [
       "array([0, 0, 0, 0, 0, 0, 0, 0, 1, 0, 0, 0, 0, 0, 0, 0, 0, 0, 0, 0, 0, 0,\n",
       "       0, 0, 0, 0, 0, 0, 0, 0, 0, 0, 0, 0, 0, 0, 0, 0, 0, 0, 0, 0, 0, 0,\n",
       "       0, 0, 0, 0, 0, 0], dtype=int64)"
      ]
     },
     "execution_count": 172,
     "metadata": {},
     "output_type": "execute_result"
    }
   ],
   "source": [
    "# Generating the predictions made by the Agglomerative Clustering method\n",
    "clusters = AgglomerativeClustering(n_clusters = k, affinity = \"euclidean\", linkage = \"single\")\n",
    "clusters.fit_predict(x)"
   ]
  },
  {
   "cell_type": "code",
   "execution_count": 173,
   "id": "5406ea9c",
   "metadata": {},
   "outputs": [
    {
     "name": "stderr",
     "output_type": "stream",
     "text": [
      "C:\\Users\\richj\\anaconda3\\lib\\site-packages\\seaborn\\_decorators.py:36: FutureWarning: Pass the following variables as keyword args: x, y. From version 0.12, the only valid positional argument will be `data`, and passing other arguments without an explicit keyword will result in an error or misinterpretation.\n",
      "  warnings.warn(\n"
     ]
    },
    {
     "data": {
      "text/plain": [
       "<AxesSubplot:>"
      ]
     },
     "execution_count": 173,
     "metadata": {},
     "output_type": "execute_result"
    },
    {
     "data": {
      "image/png": "[encoded data removed]",
      "text/plain": [
       "<Figure size 432x288 with 1 Axes>"
      ]
     },
     "metadata": {
      "needs_background": "light"
     },
     "output_type": "display_data"
    }
   ],
   "source": [
    "sns.scatterplot(x[:, 0], x[:, 2], c = clusters.labels_, cmap = \"coolwarm\")"
   ]
  },
  {
   "cell_type": "markdown",
   "id": "1e633a0a",
   "metadata": {},
   "source": [
    "### Principle Component Analysis"
   ]
  },
  {
   "cell_type": "code",
   "execution_count": 174,
   "id": "760e8273",
   "metadata": {},
   "outputs": [
    {
     "data": {
      "text/html": [
       "<div>\n",
       "<style scoped>\n",
       "    .dataframe tbody tr th:only-of-type {\n",
       "        vertical-align: middle;\n",
       "    }\n",
       "\n",
       "    .dataframe tbody tr th {\n",
       "        vertical-align: top;\n",
       "    }\n",
       "\n",
       "    .dataframe thead th {\n",
       "        text-align: right;\n",
       "    }\n",
       "</style>\n",
       "<table border=\"1\" class=\"dataframe\">\n",
       "  <thead>\n",
       "    <tr style=\"text-align: right;\">\n",
       "      <th></th>\n",
       "      <th>City</th>\n",
       "      <th>Murder</th>\n",
       "      <th>Assault</th>\n",
       "      <th>UrbanPop</th>\n",
       "      <th>Rape</th>\n",
       "    </tr>\n",
       "  </thead>\n",
       "  <tbody>\n",
       "    <tr>\n",
       "      <th>0</th>\n",
       "      <td>Alabama</td>\n",
       "      <td>13.2</td>\n",
       "      <td>236</td>\n",
       "      <td>58</td>\n",
       "      <td>21.2</td>\n",
       "    </tr>\n",
       "    <tr>\n",
       "      <th>1</th>\n",
       "      <td>Alaska</td>\n",
       "      <td>10.0</td>\n",
       "      <td>263</td>\n",
       "      <td>48</td>\n",
       "      <td>44.5</td>\n",
       "    </tr>\n",
       "    <tr>\n",
       "      <th>2</th>\n",
       "      <td>Arizona</td>\n",
       "      <td>8.1</td>\n",
       "      <td>294</td>\n",
       "      <td>80</td>\n",
       "      <td>31.0</td>\n",
       "    </tr>\n",
       "    <tr>\n",
       "      <th>3</th>\n",
       "      <td>Arkansas</td>\n",
       "      <td>8.8</td>\n",
       "      <td>190</td>\n",
       "      <td>50</td>\n",
       "      <td>19.5</td>\n",
       "    </tr>\n",
       "    <tr>\n",
       "      <th>4</th>\n",
       "      <td>California</td>\n",
       "      <td>9.0</td>\n",
       "      <td>276</td>\n",
       "      <td>91</td>\n",
       "      <td>40.6</td>\n",
       "    </tr>\n",
       "  </tbody>\n",
       "</table>\n",
       "</div>"
      ],
      "text/plain": [
       "         City  Murder  Assault  UrbanPop  Rape\n",
       "0     Alabama    13.2      236        58  21.2\n",
       "1      Alaska    10.0      263        48  44.5\n",
       "2     Arizona     8.1      294        80  31.0\n",
       "3    Arkansas     8.8      190        50  19.5\n",
       "4  California     9.0      276        91  40.6"
      ]
     },
     "execution_count": 174,
     "metadata": {},
     "output_type": "execute_result"
    }
   ],
   "source": [
    "arrests.head()"
   ]
  },
  {
   "cell_type": "code",
   "execution_count": 175,
   "id": "f529c89e",
   "metadata": {},
   "outputs": [
    {
     "data": {
      "text/plain": [
       "array([[ 1.21019086,  0.84227709],\n",
       "       [ 2.33218699, -1.5394343 ],\n",
       "       [ 1.51859328, -0.50336289],\n",
       "       [ 0.17777619,  0.32802946],\n",
       "       [ 2.06600019, -1.28549694],\n",
       "       [ 1.27624014, -1.44088797],\n",
       "       [-1.64358347,  0.18041703]])"
      ]
     },
     "execution_count": 175,
     "metadata": {},
     "output_type": "execute_result"
    }
   ],
   "source": [
    "# Fitting the data to PCA and returning the first 7 results\n",
    "components = pca.fit_transform(x)\n",
    "components[:7]"
   ]
  },
  {
   "cell_type": "code",
   "execution_count": 183,
   "id": "156fe772",
   "metadata": {},
   "outputs": [
    {
     "name": "stderr",
     "output_type": "stream",
     "text": [
      "C:\\Users\\richj\\anaconda3\\lib\\site-packages\\seaborn\\_decorators.py:36: FutureWarning: Pass the following variables as keyword args: x, y. From version 0.12, the only valid positional argument will be `data`, and passing other arguments without an explicit keyword will result in an error or misinterpretation.\n",
      "  warnings.warn(\n"
     ]
    },
    {
     "data": {
      "text/plain": [
       "<AxesSubplot:>"
      ]
     },
     "execution_count": 183,
     "metadata": {},
     "output_type": "execute_result"
    },
    {
     "data": {
      "image/png": "[encoded data removed]",
      "text/plain": [
       "<Figure size 432x288 with 1 Axes>"
      ]
     },
     "metadata": {
      "needs_background": "light"
     },
     "output_type": "display_data"
    }
   ],
   "source": [
    "sns.scatterplot(components[:, 0], components[:, 1], c = y)"
   ]
  },
  {
   "cell_type": "markdown",
   "id": "6b855b5a",
   "metadata": {},
   "source": [
    "As revealed above in the data exploration section of the task, the percentage of the population does not have a big enough effect on the rate of crime. The scatter plot above emphasises that presumption. This however is an assumption based on a small dataset that is not a representative of the whole situation. The higher the population, the higher the crime rate because the likelyhood of a crime occuring increases exponentially the more people there are in the city to commit the crime. The data suggests otherwise. That is not the case however. "
   ]
  }
 ],
 "metadata": {
  "kernelspec": {
   "display_name": "Python 3 (ipykernel)",
   "language": "python",
   "name": "python3"
  },
  "language_info": {
   "codemirror_mode": {
    "name": "ipython",
    "version": 3
   },
   "file_extension": ".py",
   "mimetype": "text/x-python",
   "name": "python",
   "nbconvert_exporter": "python",
   "pygments_lexer": "ipython3",
   "version": "3.9.12"
  }
 },
 "nbformat": 4,
 "nbformat_minor": 5
}
